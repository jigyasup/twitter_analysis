{
 "cells": [
  {
   "cell_type": "markdown",
   "metadata": {},
   "source": [
    "# Import all the required modules"
   ]
  },
  {
   "cell_type": "code",
   "execution_count": 3,
   "metadata": {},
   "outputs": [],
   "source": [
    "# json for dumping json object to json \n",
    "# twitter api for getting info from your twitter handler\n",
    "# collections for handling collections\n",
    "# to install twitter pip install python-twitter \n",
    "import json\n",
    "import twitter\n",
    "import collections"
   ]
  },
  {
   "cell_type": "code",
   "execution_count": null,
   "metadata": {},
   "outputs": [],
   "source": [
    "# get your own keys,secret and tokens from https://developer.twitter.com/\n",
    "customer_key = \"XXXXXXXXXXXXXXXXX\"\n",
    "customer_secret =\"XXXXXXXXXXXXXXXXXXXXXXXXXXXXXXXXXX\"\n",
    "access_token = \"XXXXXXXXXXXXXXXXXXXXXXXXXXXXXXXX\"\n",
    "access_token_secret = \"XXXXXXXXXXXXXXXXXXXXXXXXXXXXXXxxxx\"\n",
    "api = twitter.Api(consumer_key=customer_key,\n",
    "                  consumer_secret=customer_secret,\n",
    "                  access_token_key=access_token,\n",
    "                  access_token_secret=access_token_secret)"
   ]
  },
  {
   "cell_type": "code",
   "execution_count": null,
   "metadata": {},
   "outputs": [],
   "source": [
    "# get your followers and following infos \n",
    "followers = api.GetFollowers()\n",
    "following = api.GetFriends()"
   ]
  },
  {
   "cell_type": "code",
   "execution_count": null,
   "metadata": {},
   "outputs": [],
   "source": [
    "# follower and following jsons to save locally\n",
    "follower_json = {}\n",
    "following_json = {}\n",
    "for u in followers:\n",
    "  follower_json[u.id_str] = json.loads(str(u))\n",
    "for u in following:\n",
    "  following_json[u.id_str] = json.loads(str(u))"
   ]
  },
  {
   "cell_type": "code",
   "execution_count": null,
   "metadata": {},
   "outputs": [],
   "source": [
    "# save followers info into followers.json\n",
    "with open(\"followers.json\", \"w\") as file:\n",
    "    json.dump(follower_json, file)"
   ]
  },
  {
   "cell_type": "code",
   "execution_count": null,
   "metadata": {},
   "outputs": [],
   "source": [
    "# save followers info into following.json\n",
    "with open(\"following.json\", \"w\") as file:\n",
    "    json.dump(following_json, file)"
   ]
  },
  {
   "cell_type": "code",
   "execution_count": null,
   "metadata": {},
   "outputs": [],
   "source": [
    "# I use my own stop words from stop_words.txt to filter \n",
    "stop_words = []\n",
    "f = open(\"stop_words.txt\", encoding='utf-8', mode='r+')\n",
    "for x in f:\n",
    "  stop_words.append(x.lower().strip())"
   ]
  },
  {
   "cell_type": "markdown",
   "metadata": {},
   "source": [
    "Analyze the following users info"
   ]
  },
  {
   "cell_type": "code",
   "execution_count": null,
   "metadata": {},
   "outputs": [],
   "source": [
    "# concat all users description and filter all stops words from the concatenated user descrition\n",
    "description = ' '.join([user.description.lower().strip() for user in following ])\n",
    "description = ' '.join([word for word in description_str.split() if word not in stop_words]).replace(\".\",\"\")"
   ]
  },
  {
   "cell_type": "code",
   "execution_count": null,
   "metadata": {},
   "outputs": [],
   "source": [
    "# create a dictionary of words along with their count in description string\n",
    "words = dict(collections.Counter(description_str.split()))\n",
    "# sort the words with respective to their count value\n",
    "sorted_x = sorted(words.items(), key=lambda kv: kv[1])[::-1]\n",
    "#get top fifty words and their count \n",
    "#print the top fifty result\n",
    "#print(sorted_x[0:50])"
   ]
  },
  {
   "cell_type": "code",
   "execution_count": null,
   "metadata": {},
   "outputs": [],
   "source": []
  }
 ],
 "metadata": {
  "kernelspec": {
   "display_name": "Python 3",
   "language": "python",
   "name": "python3"
  },
  "language_info": {
   "codemirror_mode": {
    "name": "ipython",
    "version": 3
   },
   "file_extension": ".py",
   "mimetype": "text/x-python",
   "name": "python",
   "nbconvert_exporter": "python",
   "pygments_lexer": "ipython3",
   "version": "3.8.3"
  }
 },
 "nbformat": 4,
 "nbformat_minor": 4
}
